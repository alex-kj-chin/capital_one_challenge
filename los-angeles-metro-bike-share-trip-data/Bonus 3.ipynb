{
 "cells": [
  {
   "cell_type": "code",
   "execution_count": 2,
   "metadata": {},
   "outputs": [
    {
     "name": "stderr",
     "output_type": "stream",
     "text": [
      "/Users/alechin/anaconda3/lib/python3.6/site-packages/IPython/core/interactiveshell.py:2728: DtypeWarning: Columns (14) have mixed types. Specify dtype option on import or set low_memory=False.\n",
      "  interactivity=interactivity, compiler=compiler, result=result)\n"
     ]
    }
   ],
   "source": [
    "import pandas as pd\n",
    "\n",
    "df = pd.read_csv(\"metro-bike-share-trip-data.csv\")\n",
    "station_delta = {}\n",
    "\n",
    "sanitized_df = df.dropna(subset=[\"Starting Station ID\", \"Ending Station ID\", \"Start Time\"])\n",
    "for _, row in sanitized_df.iterrows():\n",
    "    day = row[\"Start Time\"].split(\"T\")[0] # We only care about the day\n",
    "    if row[\"Starting Station ID\"] in station_delta:\n",
    "        if day in station_delta[row[\"Starting Station ID\"]]:\n",
    "            station_delta[row[\"Starting Station ID\"]][day] -= 1\n",
    "        else:\n",
    "            station_delta[row[\"Starting Station ID\"]][day] = -1\n",
    "    else:\n",
    "        station_delta[row[\"Starting Station ID\"]] = {}\n",
    "        station_delta[row[\"Starting Station ID\"]][day] = -1\n",
    "    if row[\"Ending Station ID\"] in station_delta:\n",
    "        if day in station_delta[row[\"Ending Station ID\"]]:\n",
    "            station_delta[row[\"Ending Station ID\"]][day] += 1\n",
    "        else:\n",
    "            station_delta[row[\"Ending Station ID\"]][day] = 1\n",
    "    else:\n",
    "        station_delta[row[\"Ending Station ID\"]] = {}\n",
    "        station_delta[row[\"Ending Station ID\"]][day] = 1\n"
   ]
  },
  {
   "cell_type": "code",
   "execution_count": 3,
   "metadata": {},
   "outputs": [],
   "source": [
    "from statistics import mean, stdev\n",
    "\n",
    "mean_delta, stdev_delta = {}, {}\n",
    "\n",
    "for k,v in station_delta.items():\n",
    "    mean_delta[k] = mean(station_delta[k].values())\n",
    "    stdev_delta[k] = stdev(station_delta[k].values())"
   ]
  },
  {
   "cell_type": "code",
   "execution_count": 4,
   "metadata": {},
   "outputs": [
    {
     "data": {
      "text/plain": [
       "dict_values([3.037313432835821, -0.1752988047808765, 1.1729323308270676, 4.37037037037037, -0.099601593625498, 1.6604477611940298, 0.2188679245283019, 5.19172932330827, 3.3171641791044775, 0.01968503937007874, -0.8838951310861424, 3.0559701492537314, 4.7835820895522385, -3.111940298507463, 0.7320754716981132, 0.4419475655430712, 0.27710843373493976, -2.955223880597015, 0.9659090909090909, -8.49812734082397, -0.026119402985074626, 1.0153256704980842, -2.805243445692884, -1.1304347826086956, -0.8371212121212122, 1.058139534883721, -0.2, 0.09561752988047809, 0.39925373134328357, -2.5803921568627453, -3.0223880597014925, 0.5283018867924528, -0.4552238805970149, -0.39552238805970147, 0.5655430711610487, -1.1791044776119404, -2.4813432835820897, -0.3895131086142322, 0.3438914027149321, 0.7096774193548387, -0.08783783783783784, 0.07575757575757576, 0.1095890410958904, 0.32452830188679244, -0.23595505617977527, 0.47, 0.028985507246376812, -1.8909774436090225, 1.9363295880149813, 0.0749063670411985, -1.3169811320754716, 0.3522267206477733, 0.09004739336492891, -2.606741573033708, 0.035856573705179286, -0.08333333333333333, -0.07575757575757576, -0.20075757575757575, -0.8217054263565892, 0.9221789883268483, 0.5823754789272031, 0.21610169491525424, -3.5019762845849804, 3.7116279069767444, 5.082417582417582, 4, 0])"
      ]
     },
     "execution_count": 4,
     "metadata": {},
     "output_type": "execute_result"
    }
   ],
   "source": [
    "mean_delta.values()"
   ]
  },
  {
   "cell_type": "code",
   "execution_count": 5,
   "metadata": {},
   "outputs": [
    {
     "data": {
      "text/plain": [
       "dict_values([5.176881360480752, 3.175082268281968, 4.141845870870271, 7.556819477462366, 2.4482728280641948, 4.607476722277016, 3.0694645054006138, 6.400831845854919, 5.573492992526166, 2.736737025122524, 3.6114899915251018, 5.002681096812885, 5.315318742822988, 5.342446027287016, 2.874902737808395, 3.893241776601458, 2.184881629325135, 3.8538189078378937, 3.065007447511518, 4.829712651857544, 3.589840619175563, 2.9101537742333554, 3.444442324852195, 2.6507678224071567, 2.800051745937665, 2.681633675787156, 1.6431676725154984, 2.818301033802364, 4.382583785793392, 2.5549873728707144, 3.927176832193525, 3.4783081788862575, 3.3589629031735, 4.574016595507311, 3.3016303766191926, 4.419654343202431, 3.474307365789215, 3.4343962470271885, 1.595254686696062, 1.4599566462374025, 1.2612975397298714, 2.2943846549367675, 1.90288272743613, 3.745750403253836, 5.36562955946467, 0.8698658900466593, 1.4411195872784064, 3.7152609019153164, 3.8466456449783664, 3.6841980553098366, 2.574182412794327, 1.9067235287412443, 2.0369083710439426, 3.532719173140246, 2.1360498972043263, 1.836785136421232, 1.7478974118214037, 5.251963184811866, 2.9836118200354522, 3.3461986243292605, 3.6948399190904193, 1.5790905186878557, 3.2557939878774333, 6.554630570594697, 2.7749508345291076, 6.928203230275509, 0.0])"
      ]
     },
     "execution_count": 5,
     "metadata": {},
     "output_type": "execute_result"
    }
   ],
   "source": [
    "stdev_delta.values()"
   ]
  },
  {
   "cell_type": "code",
   "execution_count": 18,
   "metadata": {},
   "outputs": [
    {
     "name": "stdout",
     "output_type": "stream",
     "text": [
      "3068.0 -8.49812734082397 4.829712651857544\n",
      "3028.0 -2.5803921568627453 2.5549873728707144\n",
      "3024.0 -3.5019762845849804 3.2557939878774333\n",
      "3000.0 5.082417582417582 2.7749508345291076\n"
     ]
    }
   ],
   "source": [
    "for c, a, b in zip(mean_delta.keys(), mean_delta.values(), stdev_delta.values()):\n",
    "    if abs(a) > b:\n",
    "        print(c, a, b)"
   ]
  },
  {
   "cell_type": "code",
   "execution_count": 7,
   "metadata": {},
   "outputs": [
    {
     "data": {
      "text/plain": [
       "<matplotlib.figure.Figure at 0x113bd5ac8>"
      ]
     },
     "metadata": {},
     "output_type": "display_data"
    }
   ],
   "source": [
    "import matplotlib.pyplot as plt\n",
    "plt.bar(range(len(mean_delta)), mean_delta.values(), yerr=stdev_delta.values())\n",
    "plt.title(\"Average +/- Bikes by Station\")\n",
    "plt.ylabel(\"Bike Gain\")\n",
    "plt.xticks([])\n",
    "plt.show()"
   ]
  },
  {
   "cell_type": "code",
   "execution_count": 15,
   "metadata": {},
   "outputs": [
    {
     "data": {
      "image/png": "[encoded data removed]",
      "text/plain": [
       "<matplotlib.figure.Figure at 0x11cc20080>"
      ]
     },
     "metadata": {},
     "output_type": "display_data"
    }
   ],
   "source": [
    "for k,v in station_delta.items():\n",
    "    plt.hist(v.values(), alpha=0.2)\n",
    "plt.title(\"Bike Gain/Loss by Station\")\n",
    "plt.xlabel(\"Bike Gain/Loss\")\n",
    "plt.ylabel(\"Number of Days with Gain/Loss Result\")\n",
    "plt.show()"
   ]
  },
  {
   "cell_type": "code",
   "execution_count": null,
   "metadata": {},
   "outputs": [],
   "source": []
  }
 ],
 "metadata": {
  "kernelspec": {
   "display_name": "Python 3",
   "language": "python",
   "name": "python3"
  },
  "language_info": {
   "codemirror_mode": {
    "name": "ipython",
    "version": 3
   },
   "file_extension": ".py",
   "mimetype": "text/x-python",
   "name": "python",
   "nbconvert_exporter": "python",
   "pygments_lexer": "ipython3",
   "version": "3.6.4"
  }
 },
 "nbformat": 4,
 "nbformat_minor": 2
}
