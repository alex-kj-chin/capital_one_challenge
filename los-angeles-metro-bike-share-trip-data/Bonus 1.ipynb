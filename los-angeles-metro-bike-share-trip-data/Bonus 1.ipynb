{
 "cells": [
  {
   "cell_type": "code",
   "execution_count": 19,
   "metadata": {},
   "outputs": [
    {
     "name": "stderr",
     "output_type": "stream",
     "text": [
      "/Users/alechin/anaconda3/lib/python3.6/site-packages/IPython/core/interactiveshell.py:2728: DtypeWarning: Columns (14) have mixed types. Specify dtype option on import or set low_memory=False.\n",
      "  interactivity=interactivity, compiler=compiler, result=result)\n"
     ]
    }
   ],
   "source": [
    "# Script for outputting daily usage accross days, seasons, weeks, etc.\n",
    "\n",
    "import pandas as pd\n",
    "import numpy as np\n",
    "import geopy.distance\n",
    "from statistics import mean\n",
    "import matplotlib.pyplot as plt\n",
    "from datetime import datetime\n",
    "\n",
    "\n",
    "df = pd.read_csv(\"metro-bike-share-trip-data.csv\")\n",
    "monthly_usage = {}\n",
    "flex_usage = {}\n",
    "staff_usage = {}\n",
    "walk_usage = {}\n",
    "sanitized_df = df.dropna(subset=[\"Passholder Type\", 'Start Time'])\n",
    "\n",
    "def increm_week(day):\n",
    "    for day_k in daily_usage.keys():\n",
    "        if abs((day - day_k).days) <= 3:\n",
    "            daily_usage[day_k] += 1\n",
    "            break\n",
    "    else:\n",
    "        daily_usage[day] = 1\n",
    "\n",
    "def increm_day(day, table):\n",
    "    if day in table:\n",
    "        table[day] += 1\n",
    "    else:\n",
    "        table[day] = 1\n",
    "\n",
    "def str_to_date(string):\n",
    "    return datetime.strptime(string, \"%Y-%m-%d\")\n",
    "\n",
    "for _, row in sanitized_df.iterrows():\n",
    "    day = str_to_date(row[\"Start Time\"].split(\"T\")[0]) # We only care about the day\n",
    "    if row[\"Passholder Type\"] == \"Monthly Pass\":\n",
    "        increm_day(day, monthly_usage)\n",
    "    elif row[\"Passholder Type\"] == \"Flex Pass\":\n",
    "        increm_day(day, flex_usage)\n",
    "    elif row[\"Passholder Type\"] == \"Staff Annual\":\n",
    "        increm_day(day, staff_usage)\n",
    "    elif row[\"Passholder Type\"] == \"Walk-up\":\n",
    "        increm_day(day, walk_usage)\n",
    "    "
   ]
  },
  {
   "cell_type": "code",
   "execution_count": 20,
   "metadata": {},
   "outputs": [
    {
     "data": {
      "image/png": "[encoded data removed]",
      "text/plain": [
       "<matplotlib.figure.Figure at 0x1244964a8>"
      ]
     },
     "metadata": {},
     "output_type": "display_data"
    }
   ],
   "source": [
    "seasonal_usage = {\"Spring\":0, \"Summer\":0, \"Fall\":0, \"Winter\":0}\n",
    "day_count = {\"Spring\":0, \"Summer\":0, \"Fall\":0, \"Winter\":0}\n",
    "for k, v in daily_usage.items():\n",
    "    to_place = k.timetuple().tm_yday\n",
    "    if to_place in range(80, 172):\n",
    "        seasonal_usage[\"Spring\"] += v\n",
    "        day_count[\"Spring\"] += 1\n",
    "    elif to_place in range(172, 264):\n",
    "        seasonal_usage[\"Summer\"] += v\n",
    "        day_count[\"Summer\"] += 1\n",
    "    elif to_place in range(264, 355):\n",
    "        seasonal_usage[\"Fall\"] += v\n",
    "        day_count[\"Fall\"] += 1\n",
    "    else:\n",
    "        seasonal_usage[\"Winter\"] += v\n",
    "        day_count[\"Winter\"] += 1\n",
    "\n",
    "for k, v in seasonal_usage.items():\n",
    "    seasonal_usage[k] = seasonal_usage[k] / day_count[k]\n",
    "\n",
    "plt.scatter(seasonal_usage.keys(), seasonal_usage.values())\n",
    "plt.xlabel(\"Week\")\n",
    "plt.ylabel(\"Regular-Membership Usage\")\n",
    "plt.title(\"Seasonal Usage\")\n",
    "fig = plt.gcf()\n",
    "fig.savefig(\"bike_usage_seasonally.png\")"
   ]
  },
  {
   "cell_type": "code",
   "execution_count": 21,
   "metadata": {},
   "outputs": [],
   "source": [
    "day_count = {'Fall': 91, 'Spring': 11, 'Summer': 75, 'Winter': 91}"
   ]
  },
  {
   "cell_type": "code",
   "execution_count": 22,
   "metadata": {},
   "outputs": [],
   "source": [
    "seasonal_usage = {\"Spring\":[0] * 4, \"Summer\":[0] * 4, \"Fall\":[0] * 4, \"Winter\":[0] * 4}\n",
    "\n",
    "for idx, struct in enumerate([monthly_usage, flex_usage, staff_usage, walk_usage]):\n",
    "    for k, v in struct.items():\n",
    "        to_place = k.timetuple().tm_yday\n",
    "        if to_place in range(80, 172):\n",
    "            seasonal_usage[\"Spring\"][idx] += v\n",
    "        elif to_place in range(172, 264):\n",
    "            seasonal_usage[\"Summer\"][idx] += v\n",
    "        elif to_place in range(264, 355):\n",
    "            seasonal_usage[\"Fall\"][idx] += v\n",
    "        else:\n",
    "            seasonal_usage[\"Winter\"][idx] += v\n",
    "\n",
    "for k, v in seasonal_usage.items():\n",
    "    for x in range(4):\n",
    "        seasonal_usage[k][x] = seasonal_usage[k][x] / day_count[k]"
   ]
  },
  {
   "cell_type": "code",
   "execution_count": 23,
   "metadata": {},
   "outputs": [
    {
     "data": {
      "text/plain": [
       "{'Fall': [317.84615384615387,\n",
       "  33.2967032967033,\n",
       "  3.4945054945054945,\n",
       "  158.28571428571428],\n",
       " 'Spring': [274.1818181818182, 37.09090909090909, 0.0, 149.0],\n",
       " 'Summer': [391.5733333333333, 53.64, 0.0, 203.8],\n",
       " 'Winter': [219.73626373626374,\n",
       "  22.593406593406595,\n",
       "  0.7032967032967034,\n",
       "  108.74725274725274]}"
      ]
     },
     "execution_count": 23,
     "metadata": {},
     "output_type": "execute_result"
    }
   ],
   "source": [
    "seasonal_usage"
   ]
  },
  {
   "cell_type": "code",
   "execution_count": 24,
   "metadata": {},
   "outputs": [],
   "source": [
    "monthly = [317.84615384615387, 274.1818181818182, 391.5733333333333, 219.73626373626374]\n",
    "flex = [33.2967032967033, 37.09090909090909, 53.64, 22.593406593406595]\n",
    "walk = [158.28571428571428, 149, 203.8, 108.74725274725274]"
   ]
  },
  {
   "cell_type": "code",
   "execution_count": null,
   "metadata": {},
   "outputs": [],
   "source": []
  }
 ],
 "metadata": {
  "kernelspec": {
   "display_name": "Python 3",
   "language": "python",
   "name": "python3"
  },
  "language_info": {
   "codemirror_mode": {
    "name": "ipython",
    "version": 3
   },
   "file_extension": ".py",
   "mimetype": "text/x-python",
   "name": "python",
   "nbconvert_exporter": "python",
   "pygments_lexer": "ipython3",
   "version": "3.6.4"
  }
 },
 "nbformat": 4,
 "nbformat_minor": 2
}
