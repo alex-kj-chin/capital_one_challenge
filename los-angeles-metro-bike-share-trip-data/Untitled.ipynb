{
 "cells": [
  {
   "cell_type": "code",
   "execution_count": 51,
   "metadata": {},
   "outputs": [],
   "source": [
    "import pandas as pd\n",
    "import numpy as np\n",
    "import geopy.distance # Thought about implementing myself using Haversine, but this is more accurate\n",
    "from statistics import mean"
   ]
  },
  {
   "cell_type": "code",
   "execution_count": 3,
   "metadata": {},
   "outputs": [
    {
     "name": "stderr",
     "output_type": "stream",
     "text": [
      "/Users/alechin/anaconda3/lib/python3.6/site-packages/IPython/core/interactiveshell.py:2728: DtypeWarning: Columns (14) have mixed types. Specify dtype option on import or set low_memory=False.\n",
      "  interactivity=interactivity, compiler=compiler, result=result)\n"
     ]
    }
   ],
   "source": [
    "df = pd.read_csv(\"metro-bike-share-trip-data.csv\")"
   ]
  },
  {
   "cell_type": "code",
   "execution_count": 54,
   "metadata": {},
   "outputs": [
    {
     "data": {
      "text/plain": [
       "array(['Monthly Pass', 'Flex Pass', 'Walk-up', 'Staff Annual'],\n",
       "      dtype=object)"
      ]
     },
     "execution_count": 54,
     "metadata": {},
     "output_type": "execute_result"
    }
   ],
   "source": [
    "df[\"Passholder Type\"].unique()"
   ]
  },
  {
   "cell_type": "code",
   "execution_count": 33,
   "metadata": {},
   "outputs": [
    {
     "name": "stdout",
     "output_type": "stream",
     "text": [
      "\n"
     ]
    }
   ],
   "source": [
    "station_start = {}\n",
    "station_end = {}\n",
    "\n",
    "def increm_dict(dictionary, key):\n",
    "    if key != np.nan:\n",
    "        if key in dictionary:\n",
    "            dictionary[key] += 1\n",
    "        else:\n",
    "            dictionary[key] = 1\n",
    "\n",
    "df[\"Starting Station ID\"].dropna().map(lambda x: increm_dict(station_start, x))\n",
    "df[\"Ending Station ID\"].dropna().map(lambda x: increm_dict(station_end, x))\n",
    "print(\"\")"
   ]
  },
  {
   "cell_type": "code",
   "execution_count": 39,
   "metadata": {},
   "outputs": [
    {
     "name": "stdout",
     "output_type": "stream",
     "text": [
      "3039.0\n"
     ]
    }
   ],
   "source": [
    "max_k, max_v = 0, 0\n",
    "for k, v in station_end.items():\n",
    "    if v > max_v:\n",
    "        max_v = v\n",
    "        max_k = k\n",
    "print(k)"
   ]
  },
  {
   "cell_type": "code",
   "execution_count": null,
   "metadata": {},
   "outputs": [],
   "source": [
    "# Calculate average speed for bikers\n"
   ]
  },
  {
   "cell_type": "code",
   "execution_count": 49,
   "metadata": {},
   "outputs": [
    {
     "name": "stderr",
     "output_type": "stream",
     "text": [
      "/Users/alechin/anaconda3/lib/python3.6/site-packages/ipykernel_launcher.py:2: UserWarning: Boolean Series key will be reindexed to match DataFrame index.\n",
      "  \n"
     ]
    }
   ],
   "source": [
    "dist_traveled = []\n",
    "sanitized_df = df.dropna(subset=[\"Starting Station Latitude\", \"Starting Station Longitude\", \"Ending Station Latitude\", \"Ending Station Longitude\"])\n",
    "for _, row in sanitized_df.iterrows():\n",
    "    if row[\"Trip Route Category\"] == \"Round Trip\":\n",
    "        # TODO: calculate avg speed\n",
    "    else:\n",
    "        dist_traveled.append(geopy.distance.vincenty((row[\"Starting Station Latitude\"], row[\"Starting Station Longitude\"]), (row[\"Ending Station Latitude\"], row[\"Ending Station Longitude\"])).miles)\n",
    "    \n",
    "    "
   ]
  },
  {
   "cell_type": "code",
   "execution_count": 52,
   "metadata": {},
   "outputs": [
    {
     "data": {
      "text/plain": [
       "3.0440732408325566"
      ]
     },
     "execution_count": 52,
     "metadata": {},
     "output_type": "execute_result"
    }
   ],
   "source": [
    "mean(dist_traveled)"
   ]
  },
  {
   "cell_type": "code",
   "execution_count": null,
   "metadata": {},
   "outputs": [],
   "source": []
  }
 ],
 "metadata": {
  "kernelspec": {
   "display_name": "Python 3",
   "language": "python",
   "name": "python3"
  },
  "language_info": {
   "codemirror_mode": {
    "name": "ipython",
    "version": 3
   },
   "file_extension": ".py",
   "mimetype": "text/x-python",
   "name": "python",
   "nbconvert_exporter": "python",
   "pygments_lexer": "ipython3",
   "version": "3.6.4"
  }
 },
 "nbformat": 4,
 "nbformat_minor": 2
}
